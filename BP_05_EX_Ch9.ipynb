{
  "nbformat": 4,
  "nbformat_minor": 0,
  "metadata": {
    "colab": {
      "provenance": [],
      "authorship_tag": "ABX9TyON+vmLjD1I/iM2yv466sUi",
      "include_colab_link": true
    },
    "kernelspec": {
      "name": "python3",
      "display_name": "Python 3"
    },
    "language_info": {
      "name": "python"
    }
  },
  "cells": [
    {
      "cell_type": "markdown",
      "metadata": {
        "id": "view-in-github",
        "colab_type": "text"
      },
      "source": [
        "<a href=\"https://colab.research.google.com/github/parkdongseop/BP_05_Ch9/blob/main/BP_05_EX_Ch9.ipynb\" target=\"_parent\"><img src=\"https://colab.research.google.com/assets/colab-badge.svg\" alt=\"Open In Colab\"/></a>"
      ]
    },
    {
      "cell_type": "markdown",
      "source": [
        "1. 사용자로부터 5개의 숫자를 읽어서 리스트에 저장하고 숫자들의 평균을 계산하여 출력하는 프로그램을 작성해보자."
      ],
      "metadata": {
        "id": "Rv-LjN0r44ts"
      }
    },
    {
      "cell_type": "code",
      "execution_count": 1,
      "metadata": {
        "colab": {
          "base_uri": "https://localhost:8080/"
        },
        "id": "5gh4ZLnB14nk",
        "outputId": "994af92a-0cd2-4d5b-8eb0-d074bb51803f"
      },
      "outputs": [
        {
          "output_type": "stream",
          "name": "stdout",
          "text": [
            "정수를 입력하시오:1\n",
            "정수를 입력하시오:2\n",
            "정수를 입력하시오:3\n",
            "정수를 입력하시오:4\n",
            "정수를 입력하시오:5\n",
            "평균= 3.0\n"
          ]
        }
      ],
      "source": [
        "list=[]\n",
        "list.append(int(input(\"정수를 입력하시오:\"))) #리스트에 정수 값 추가\n",
        "list.append(int(input(\"정수를 입력하시오:\"))) #리스트에 정수 값 추가\n",
        "list.append(int(input(\"정수를 입력하시오:\"))) #리스트에 정수 값 추가\n",
        "list.append(int(input(\"정수를 입력하시오:\"))) #리스트에 정수 값 추가\n",
        "list.append(int(input(\"정수를 입력하시오:\"))) #리스트에 정수 값 추가\n",
        "\n",
        "avg= (list[0]+list[1]+list[2]+list[3]+list[4])/len(list) #평균을 구하는식\n",
        "\n",
        "print(\"평균=\",avg) #평균을 프린트"
      ]
    },
    {
      "cell_type": "markdown",
      "source": [
        "2. 주사위를 던져서 나오는 값들의 빈도를 계산하는 프로그램을 작성해보자. 즉 1, 2, 3, 4, 5, 6의 값이 각각 몇 번이나 나오는지를 계산한다. 난수 발생 함수와 리스트를 사용해보자."
      ],
      "metadata": {
        "id": "pPN3IJnC5B5N"
      }
    },
    {
      "cell_type": "code",
      "source": [
        "def NaN(): #난수 생성 함수\n",
        "    val = random.randint(1,6) # 1에서 6까지의 랜덤한 수를 정함\n",
        "    counters[val-1] += 1\n",
        "import random\n",
        "counters = [0]*6\n",
        "cnt = 0\n",
        "while cnt != 500: #while문을 500번 돌림\n",
        "    NaN()\n",
        "    cnt += 1\n",
        "for i in range(6): #출력해줌\n",
        "    print(\"주사위가\",i+1,\"인 경우는\",counters[i])"
      ],
      "metadata": {
        "colab": {
          "base_uri": "https://localhost:8080/"
        },
        "id": "CAQ6FNV35QhG",
        "outputId": "d151093d-b521-470d-8602-b84e400a2f7c"
      },
      "execution_count": 5,
      "outputs": [
        {
          "output_type": "stream",
          "name": "stdout",
          "text": [
            "주사위가 1 인 경우는 69\n",
            "주사위가 2 인 경우는 92\n",
            "주사위가 3 인 경우는 100\n",
            "주사위가 4 인 경우는 85\n",
            "주사위가 5 인 경우는 80\n",
            "주사위가 6 인 경우는 74\n"
          ]
        }
      ]
    },
    {
      "cell_type": "markdown",
      "source": [
        "3. 딕셔너리를 사용하여서 친구들의 이름과 전화번호를 저장해보자. 사용자로부터 친구들의 이름과 전화번호를 입력받고 딕셔너리에 저장한다. 이름을 입력하지 않고 엔터키를 치면 검색모드가 된다. 검색 모드에서는 친구들의 이름으로 전화번호를 검색할 수 있도록 한다."
      ],
      "metadata": {
        "id": "TviHOQwq5Q8C"
      }
    },
    {
      "cell_type": "code",
      "source": [
        "def input_mode(): #입력모드 함수\n",
        "    while True:\n",
        "        name = input(\"(입력모드)이름을 입력하시오: \")#이름 입력\n",
        "        if not name: break;\n",
        "        tel = input(\"전화번호를 입력하시오: \") #번호 입력\n",
        "        contacts[name] = tel #딕셔너리에 이름과 번호를 저장해줌\n",
        "def search_mode(): #검색모드 함수\n",
        "    while True:\n",
        "        name = input(\"(검색모드)이름을 입력하시오: \") #이름 입력\n",
        "        if not name: break;\n",
        "        print(name,\"의 전화번호는\",contacts[name],\"입니다.\") #딕셔너리에 저장한 이름과 번호를 출력\n",
        "contacts = {}\n",
        "while 1:\n",
        "    input_mode()\n",
        "    search_mode()"
      ],
      "metadata": {
        "colab": {
          "base_uri": "https://localhost:8080/"
        },
        "id": "uCfyUGUO5g_J",
        "outputId": "9145d385-1907-42be-b015-78e7f0f1f120"
      },
      "execution_count": null,
      "outputs": [
        {
          "output_type": "stream",
          "name": "stdout",
          "text": [
            "(입력모드)이름을 입력하시오: 홍길동\n",
            "전화번호를 입력하시오: 111-2222\n",
            "(입력모드)이름을 입력하시오: 김철수\n",
            "전화번호를 입력하시오: 222-3333\n",
            "(입력모드)이름을 입력하시오: \n",
            "(검색모드)이름을 입력하시오: 홍길동\n",
            "홍길동 의 전화번호는 111-2222 입니다.\n"
          ]
        }
      ]
    },
    {
      "cell_type": "markdown",
      "source": [
        "4. 색상을 리스트에 저장한다. 리스트에 저장된 색상을 하나씩 꺼내어 거북이의 색상으로 설정하면서 속이 채워진 사각형을 그리는 프로그램을 작성해보자. "
      ],
      "metadata": {
        "id": "HtcpHBAN5kRb"
      }
    },
    {
      "cell_type": "code",
      "source": [
        "import turtle\n",
        "t=turtle.Turtle()\n",
        "def draw(x,y,c):\n",
        "    \n",
        "    for c in [\"red\",\"blue\",\"green\",\"yellow\"]: #리스트에 저장된 색이 순서대로 표현\n",
        "        t.goto(x,y) \n",
        "        t.fillcolor(c) \n",
        "        t.begin_fill()\n",
        "        t.fd(100) #사각형 그리기\n",
        "        t.rt(90)\n",
        "        t.fd(100)\n",
        "        t.rt(90)\n",
        "        t.fd(100)\n",
        "        t.rt(90)\n",
        "        t.fd(100)\n",
        "        t.end_fill()\n",
        "    \n",
        "   \n",
        "draw(10,10,0)"
      ],
      "metadata": {
        "id": "rZs2kvaS5ss0"
      },
      "execution_count": null,
      "outputs": []
    },
    {
      "cell_type": "markdown",
      "source": [
        "5. 색상을 리스트에 저장한다. 리스트에 저장된 색상을 하나씩 꺼내어 거북이의 색상으로 설정하면서 속이 채워진 다각형을 그리는 프로그램을 작성해보자. "
      ],
      "metadata": {
        "id": "R_A18_st5w77"
      }
    },
    {
      "cell_type": "code",
      "source": [
        "import turtle #터틀모듈\n",
        "import random #랜덤모듈\n",
        "t=turtle.Turtle() \n",
        "    \n",
        "k=int(input(\"몇각형을 만들래?\"))\n",
        "l=int(input(\"길이는 얼마?\"))\n",
        "s=int(input(\"각도는 얼마?\"))\n",
        "x=0\n",
        "y=0\n",
        "c=random.randint(0,3)\n",
        "def draw(k,c,l,s,x,y): #함수정의\n",
        "    \n",
        "    for c in [\"red\",\"blue\",\"green\",\"yellow\"]: #색 리스트\n",
        "        x=random.randint(1,200)\n",
        "        y=random.randint(1,200)\n",
        "        t.penup()\n",
        "        t.goto(x,y) #좌표이동\n",
        "        t.pendown()\n",
        "        t.fillcolor(c) #색선정\n",
        "        t.begin_fill()\n",
        "        for i in range(k): #도형그리기\n",
        "             \n",
        "            t.fd(l)\n",
        "            t.rt(s)\n",
        "           \n",
        "        t.end_fill()    \n",
        "\n",
        "draw(k,c,l,s,x,y)"
      ],
      "metadata": {
        "id": "7yd3cfN35_tU"
      },
      "execution_count": null,
      "outputs": []
    },
    {
      "cell_type": "markdown",
      "source": [
        "6. 색상을 리스트에 저장한다. 리스트에 저장된 색상을 하나씩 꺼내어 거북이의 색상으로 설정하면서 속이 채워진 별을 랜덤한 위치에 그리는 프로그램을 작성해보자. "
      ],
      "metadata": {
        "id": "0Xx4o5A56H5z"
      }
    },
    {
      "cell_type": "code",
      "source": [
        "import turtle #터틀모듈\n",
        "import random #랜덤모듈\n",
        "t=turtle.Turtle() \n",
        "\n",
        "c=random.randint(0,3)\n",
        "def star(color,length,x,y): #함수정의\n",
        "    t.penup()\n",
        "    t.goto(x,y) #좌표이동\n",
        "    t.pendown()\n",
        "    t.fillcolor(color) #색선정\n",
        "    t.begin_fill()\n",
        "    for i in range(5): #도형그리기\n",
        "             \n",
        "            t.fd(length)\n",
        "            t.rt(144)\n",
        "    t.end_fill()\n",
        "for i in range(10):#별10개 그리기\n",
        "    for color in [\"red\",\"blue\",\"green\",\"yellow\"]: #색 리스트\n",
        "        x=random.randint(1,200) #랜던 좌표및 길이 랜덤으로 지정\n",
        "        y=random.randint(1,200)\n",
        "        length=random.randint(50,200)\n",
        "        star(color,length,x,y)#star함수 실행"
      ],
      "metadata": {
        "id": "nLV6pEOR6UN3"
      },
      "execution_count": null,
      "outputs": []
    },
    {
      "cell_type": "markdown",
      "source": [
        "7. 인터넷 도메인의 약자와 해당되는 국가를 딕셔너리에 저장해보자. 예를 들어서 \"kr\"은 대한민국으로 저장되어야 한다. 딕셔너리를 순회하면서 모든 키와 값을 출력하는 프로그램을 작성해보자. "
      ],
      "metadata": {
        "id": "Tg600KRf6Uru"
      }
    },
    {
      "cell_type": "code",
      "source": [
        "domain={\"kr\":\"대한민국\",\"sk\":\"슬로바키아\",\"no\":\"노르웨이\",\"us\":\"미국\",\"jp\":\"일본\",\"de\":\"독일\"}\n",
        "for k,v in domain.items():\n",
        "    print(k,\":\",v)"
      ],
      "metadata": {
        "colab": {
          "base_uri": "https://localhost:8080/"
        },
        "id": "yH2xsEin6iyD",
        "outputId": "05b6ee06-7382-4bc1-ec53-a75caed65bb6"
      },
      "execution_count": 11,
      "outputs": [
        {
          "output_type": "stream",
          "name": "stdout",
          "text": [
            "kr : 대한민국\n",
            "sk : 슬로바키아\n",
            "no : 노르웨이\n",
            "us : 미국\n",
            "jp : 일본\n",
            "de : 독일\n"
          ]
        }
      ]
    },
    {
      "cell_type": "markdown",
      "source": [
        "8. 딕셔너리에 문제와 정답을 저장하고 하나씩 꺼내서 사용자에게 제시하는 프로그램을 작성해보자. 사용자는 문자열로 답해야 한다. 번호로 답할 수는 없다."
      ],
      "metadata": {
        "id": "HFzrmDjJ6mZ5"
      }
    },
    {
      "cell_type": "code",
      "source": [
        "problems={\"파이썬\":\"최근에 가장떠오르는 프로그래밍 언어\",\"변수\":\"데이터를 저장하는 메모리 공간\",\"함수\":\"작업을 수행하는 문장들의 집합에 이름을 붙인 것\",\"리스트\":\"서로 관련이 없는 항목들의 모임\"}\n",
        "for k,v in problems.items():\n",
        "    print(v)\n",
        "    print(\"다음은 어떤 단어에 대한 설명일까요?\")\n",
        "    print(\"(1)파이썬 (2)함수 (3)리스트 (4)변수\")\n",
        "    ans=input()\n",
        "    if ans==k:\n",
        "        print(\"정답입니다!\")\n",
        "    else:\n",
        "        print(\"틀렸습니다\")"
      ],
      "metadata": {
        "colab": {
          "base_uri": "https://localhost:8080/"
        },
        "id": "kQyD6KS66v7n",
        "outputId": "42b4c968-3afa-4b39-b4c0-dba62d94fab0"
      },
      "execution_count": 12,
      "outputs": [
        {
          "output_type": "stream",
          "name": "stdout",
          "text": [
            "최근에 가장떠오르는 프로그래밍 언어\n",
            "다음은 어떤 단어에 대한 설명일까요?\n",
            "(1)파이썬 (2)함수 (3)리스트 (4)변수\n",
            "파이썬\n",
            "정답입니다!\n",
            "데이터를 저장하는 메모리 공간\n",
            "다음은 어떤 단어에 대한 설명일까요?\n",
            "(1)파이썬 (2)함수 (3)리스트 (4)변수\n",
            "변수\n",
            "정답입니다!\n",
            "작업을 수행하는 문장들의 집합에 이름을 붙인 것\n",
            "다음은 어떤 단어에 대한 설명일까요?\n",
            "(1)파이썬 (2)함수 (3)리스트 (4)변수\n",
            "함수\n",
            "정답입니다!\n",
            "서로 관련이 없는 항목들의 모임\n",
            "다음은 어떤 단어에 대한 설명일까요?\n",
            "(1)파이썬 (2)함수 (3)리스트 (4)변수\n",
            "리스트\n",
            "정답입니다!\n"
          ]
        }
      ]
    }
  ]
}